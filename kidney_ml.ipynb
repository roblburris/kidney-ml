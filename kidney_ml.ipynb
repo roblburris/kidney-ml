{
  "nbformat": 4,
  "nbformat_minor": 0,
  "metadata": {
    "colab": {
      "name": "kidney-ml.ipynb",
      "provenance": [],
      "collapsed_sections": [],
      "machine_shape": "hm",
      "authorship_tag": "ABX9TyPz1/i210++p3XOu0BiQFa1"
    },
    "kernelspec": {
      "name": "python3",
      "display_name": "Python 3"
    },
    "language_info": {
      "name": "python"
    },
    "accelerator": "GPU"
  },
  "cells": [
    {
      "cell_type": "code",
      "metadata": {
        "colab": {
          "base_uri": "https://localhost:8080/"
        },
        "id": "g0LBLiVXAJIW",
        "outputId": "c99a45c3-c5b9-4918-abc4-b974d5e920bc"
      },
      "source": [
        "!wget https://ftp.ncbi.nlm.nih.gov/geo/series/GSE129nnn/GSE129798/suppl/GSE129798_Mouse_Adult_DGE_final.tar.gz\n",
        "!tar -xvf GSE129798_Mouse_Adult_DGE_final.tar.gz\n",
        "!ls\n",
        "!mv Mouse_Adult_DGE_final/ kidney\n",
        "\n",
        "!pip install scanpy\n",
        "!pip install wandb"
      ],
      "execution_count": 1,
      "outputs": [
        {
          "output_type": "stream",
          "text": [
            "--2021-06-08 19:18:26--  https://ftp.ncbi.nlm.nih.gov/geo/series/GSE129nnn/GSE129798/suppl/GSE129798_Mouse_Adult_DGE_final.tar.gz\n",
            "Resolving ftp.ncbi.nlm.nih.gov (ftp.ncbi.nlm.nih.gov)... 130.14.250.11, 130.14.250.7, 2607:f220:41f:250::230, ...\n",
            "Connecting to ftp.ncbi.nlm.nih.gov (ftp.ncbi.nlm.nih.gov)|130.14.250.11|:443... connected.\n",
            "HTTP request sent, awaiting response... 200 OK\n",
            "Length: 145094649 (138M) [application/x-gzip]\n",
            "Saving to: ‘GSE129798_Mouse_Adult_DGE_final.tar.gz.2’\n",
            "\n",
            "GSE129798_Mouse_Adu 100%[===================>] 138.37M  39.5MB/s    in 4.0s    \n",
            "\n",
            "2021-06-08 19:18:30 (34.8 MB/s) - ‘GSE129798_Mouse_Adult_DGE_final.tar.gz.2’ saved [145094649/145094649]\n",
            "\n",
            "Mouse_Adult_DGE_final/\n",
            "Mouse_Adult_DGE_final/barcodes.tsv\n",
            "Mouse_Adult_DGE_final/genes.tsv\n",
            "Mouse_Adult_DGE_final/matrix.mtx\n",
            "cache\t\t\t\t\t  kidney\n",
            "GSE129798_Mouse_Adult_DGE_final.tar.gz\t  Mouse_Adult_DGE_final\n",
            "GSE129798_Mouse_Adult_DGE_final.tar.gz.1  sample_data\n",
            "GSE129798_Mouse_Adult_DGE_final.tar.gz.2\n",
            "mv: cannot move 'Mouse_Adult_DGE_final/' to 'kidney/Mouse_Adult_DGE_final': Directory not empty\n",
            "Requirement already satisfied: scanpy in /usr/local/lib/python3.7/dist-packages (1.7.2)\n",
            "Requirement already satisfied: anndata>=0.7.4 in /usr/local/lib/python3.7/dist-packages (from scanpy) (0.7.6)\n",
            "Requirement already satisfied: legacy-api-wrap in /usr/local/lib/python3.7/dist-packages (from scanpy) (1.2)\n",
            "Requirement already satisfied: numpy>=1.17.0 in /usr/local/lib/python3.7/dist-packages (from scanpy) (1.19.5)\n",
            "Requirement already satisfied: numba>=0.41.0 in /usr/local/lib/python3.7/dist-packages (from scanpy) (0.51.2)\n",
            "Requirement already satisfied: umap-learn>=0.3.10 in /usr/local/lib/python3.7/dist-packages (from scanpy) (0.5.1)\n",
            "Requirement already satisfied: packaging in /usr/local/lib/python3.7/dist-packages (from scanpy) (20.9)\n",
            "Requirement already satisfied: tqdm in /usr/local/lib/python3.7/dist-packages (from scanpy) (4.41.1)\n",
            "Requirement already satisfied: matplotlib>=3.1.2 in /usr/local/lib/python3.7/dist-packages (from scanpy) (3.2.2)\n",
            "Requirement already satisfied: scipy>=1.4 in /usr/local/lib/python3.7/dist-packages (from scanpy) (1.4.1)\n",
            "Requirement already satisfied: sinfo in /usr/local/lib/python3.7/dist-packages (from scanpy) (0.3.4)\n",
            "Requirement already satisfied: natsort in /usr/local/lib/python3.7/dist-packages (from scanpy) (5.5.0)\n",
            "Requirement already satisfied: joblib in /usr/local/lib/python3.7/dist-packages (from scanpy) (1.0.1)\n",
            "Requirement already satisfied: patsy in /usr/local/lib/python3.7/dist-packages (from scanpy) (0.5.1)\n",
            "Requirement already satisfied: seaborn in /usr/local/lib/python3.7/dist-packages (from scanpy) (0.11.1)\n",
            "Requirement already satisfied: networkx>=2.3 in /usr/local/lib/python3.7/dist-packages (from scanpy) (2.5.1)\n",
            "Requirement already satisfied: pandas>=0.21 in /usr/local/lib/python3.7/dist-packages (from scanpy) (1.1.5)\n",
            "Requirement already satisfied: h5py>=2.10.0 in /usr/local/lib/python3.7/dist-packages (from scanpy) (3.1.0)\n",
            "Requirement already satisfied: importlib-metadata>=0.7; python_version < \"3.8\" in /usr/local/lib/python3.7/dist-packages (from scanpy) (4.0.1)\n",
            "Requirement already satisfied: statsmodels>=0.10.0rc2 in /usr/local/lib/python3.7/dist-packages (from scanpy) (0.10.2)\n",
            "Requirement already satisfied: tables in /usr/local/lib/python3.7/dist-packages (from scanpy) (3.4.4)\n",
            "Requirement already satisfied: scikit-learn>=0.21.2 in /usr/local/lib/python3.7/dist-packages (from scanpy) (0.22.2.post1)\n",
            "Requirement already satisfied: xlrd<2.0 in /usr/local/lib/python3.7/dist-packages (from anndata>=0.7.4->scanpy) (1.1.0)\n",
            "Requirement already satisfied: setuptools in /usr/local/lib/python3.7/dist-packages (from legacy-api-wrap->scanpy) (57.0.0)\n",
            "Requirement already satisfied: get-version>=2.0.4 in /usr/local/lib/python3.7/dist-packages (from legacy-api-wrap->scanpy) (3.2)\n",
            "Requirement already satisfied: llvmlite<0.35,>=0.34.0.dev0 in /usr/local/lib/python3.7/dist-packages (from numba>=0.41.0->scanpy) (0.34.0)\n",
            "Requirement already satisfied: pynndescent>=0.5 in /usr/local/lib/python3.7/dist-packages (from umap-learn>=0.3.10->scanpy) (0.5.2)\n",
            "Requirement already satisfied: pyparsing>=2.0.2 in /usr/local/lib/python3.7/dist-packages (from packaging->scanpy) (2.4.7)\n",
            "Requirement already satisfied: cycler>=0.10 in /usr/local/lib/python3.7/dist-packages (from matplotlib>=3.1.2->scanpy) (0.10.0)\n",
            "Requirement already satisfied: kiwisolver>=1.0.1 in /usr/local/lib/python3.7/dist-packages (from matplotlib>=3.1.2->scanpy) (1.3.1)\n",
            "Requirement already satisfied: python-dateutil>=2.1 in /usr/local/lib/python3.7/dist-packages (from matplotlib>=3.1.2->scanpy) (2.8.1)\n",
            "Requirement already satisfied: stdlib-list in /usr/local/lib/python3.7/dist-packages (from sinfo->scanpy) (0.8.0)\n",
            "Requirement already satisfied: six in /usr/local/lib/python3.7/dist-packages (from patsy->scanpy) (1.15.0)\n",
            "Requirement already satisfied: decorator<5,>=4.3 in /usr/local/lib/python3.7/dist-packages (from networkx>=2.3->scanpy) (4.4.2)\n",
            "Requirement already satisfied: pytz>=2017.2 in /usr/local/lib/python3.7/dist-packages (from pandas>=0.21->scanpy) (2018.9)\n",
            "Requirement already satisfied: cached-property; python_version < \"3.8\" in /usr/local/lib/python3.7/dist-packages (from h5py>=2.10.0->scanpy) (1.5.2)\n",
            "Requirement already satisfied: zipp>=0.5 in /usr/local/lib/python3.7/dist-packages (from importlib-metadata>=0.7; python_version < \"3.8\"->scanpy) (3.4.1)\n",
            "Requirement already satisfied: typing-extensions>=3.6.4; python_version < \"3.8\" in /usr/local/lib/python3.7/dist-packages (from importlib-metadata>=0.7; python_version < \"3.8\"->scanpy) (3.7.4.3)\n",
            "Requirement already satisfied: numexpr>=2.5.2 in /usr/local/lib/python3.7/dist-packages (from tables->scanpy) (2.7.3)\n",
            "Requirement already satisfied: dunamai in /usr/local/lib/python3.7/dist-packages (from get-version>=2.0.4->legacy-api-wrap->scanpy) (1.5.5)\n",
            "Requirement already satisfied: wandb in /usr/local/lib/python3.7/dist-packages (0.10.31)\n",
            "Requirement already satisfied: PyYAML in /usr/local/lib/python3.7/dist-packages (from wandb) (3.13)\n",
            "Requirement already satisfied: psutil>=5.0.0 in /usr/local/lib/python3.7/dist-packages (from wandb) (5.4.8)\n",
            "Requirement already satisfied: promise<3,>=2.0 in /usr/local/lib/python3.7/dist-packages (from wandb) (2.3)\n",
            "Requirement already satisfied: pathtools in /usr/local/lib/python3.7/dist-packages (from wandb) (0.1.2)\n",
            "Requirement already satisfied: sentry-sdk>=0.4.0 in /usr/local/lib/python3.7/dist-packages (from wandb) (1.1.0)\n",
            "Requirement already satisfied: shortuuid>=0.5.0 in /usr/local/lib/python3.7/dist-packages (from wandb) (1.0.1)\n",
            "Requirement already satisfied: subprocess32>=3.5.3 in /usr/local/lib/python3.7/dist-packages (from wandb) (3.5.4)\n",
            "Requirement already satisfied: GitPython>=1.0.0 in /usr/local/lib/python3.7/dist-packages (from wandb) (3.1.17)\n",
            "Requirement already satisfied: docker-pycreds>=0.4.0 in /usr/local/lib/python3.7/dist-packages (from wandb) (0.4.0)\n",
            "Requirement already satisfied: protobuf>=3.12.0 in /usr/local/lib/python3.7/dist-packages (from wandb) (3.12.4)\n",
            "Requirement already satisfied: configparser>=3.8.1 in /usr/local/lib/python3.7/dist-packages (from wandb) (5.0.2)\n",
            "Requirement already satisfied: requests<3,>=2.0.0 in /usr/local/lib/python3.7/dist-packages (from wandb) (2.23.0)\n",
            "Requirement already satisfied: Click>=7.0 in /usr/local/lib/python3.7/dist-packages (from wandb) (7.1.2)\n",
            "Requirement already satisfied: python-dateutil>=2.6.1 in /usr/local/lib/python3.7/dist-packages (from wandb) (2.8.1)\n",
            "Requirement already satisfied: six>=1.13.0 in /usr/local/lib/python3.7/dist-packages (from wandb) (1.15.0)\n",
            "Requirement already satisfied: certifi in /usr/local/lib/python3.7/dist-packages (from sentry-sdk>=0.4.0->wandb) (2020.12.5)\n",
            "Requirement already satisfied: urllib3>=1.10.0 in /usr/local/lib/python3.7/dist-packages (from sentry-sdk>=0.4.0->wandb) (1.24.3)\n",
            "Requirement already satisfied: gitdb<5,>=4.0.1 in /usr/local/lib/python3.7/dist-packages (from GitPython>=1.0.0->wandb) (4.0.7)\n",
            "Requirement already satisfied: typing-extensions>=3.7.4.0; python_version < \"3.8\" in /usr/local/lib/python3.7/dist-packages (from GitPython>=1.0.0->wandb) (3.7.4.3)\n",
            "Requirement already satisfied: setuptools in /usr/local/lib/python3.7/dist-packages (from protobuf>=3.12.0->wandb) (57.0.0)\n",
            "Requirement already satisfied: idna<3,>=2.5 in /usr/local/lib/python3.7/dist-packages (from requests<3,>=2.0.0->wandb) (2.10)\n",
            "Requirement already satisfied: chardet<4,>=3.0.2 in /usr/local/lib/python3.7/dist-packages (from requests<3,>=2.0.0->wandb) (3.0.4)\n",
            "Requirement already satisfied: smmap<5,>=3.0.1 in /usr/local/lib/python3.7/dist-packages (from gitdb<5,>=4.0.1->GitPython>=1.0.0->wandb) (4.0.0)\n"
          ],
          "name": "stdout"
        }
      ]
    },
    {
      "cell_type": "code",
      "metadata": {
        "id": "-Y5UveFlAlg9"
      },
      "source": [
        "import torch\n",
        "import scanpy as sc\n",
        "import numpy as np\n",
        "import pandas as pd\n",
        "import math, random\n",
        "import wandb\n",
        "import matplotlib.pyplot as plt\n",
        "\n",
        "from anndata import AnnData\n",
        "from torch import nn"
      ],
      "execution_count": 132,
      "outputs": []
    },
    {
      "cell_type": "code",
      "metadata": {
        "id": "LFzarW6vAyQs"
      },
      "source": [
        "def load_data(path='./kidney/'):\n",
        "    '''\n",
        "    Loads data from files and creates train, test\n",
        "    sets\n",
        "    Arguments:\n",
        "        path: path to directory containing\n",
        "              sc-RNA seq data files\n",
        "    \n",
        "    Returns:\n",
        "        anndata object\n",
        "    '''\n",
        "    adata = sc.read(path + 'matrix.mtx', cache=True)\n",
        "    adata = adata.transpose()\n",
        "    adata.obs_names = pd.read_csv(path + 'barcodes.tsv', header=None, sep='\\t')[0]\n",
        "    adata.var_names = pd.read_csv(path + 'genes.tsv', header=None, sep='\\t')[0]\n",
        "    return adata \n",
        "\n",
        "def train_test(adata, train_size, seed):\n",
        "    '''\n",
        "    Creates train and test sets based on split\n",
        "    size\n",
        "    Arguments:\n",
        "        adata: anndata object (base dataset)\n",
        "        train_size: float representing proportion of dataset\n",
        "        to be used in train set\n",
        "    Returns:\n",
        "        a tuple (train_set, test_set) of anndata objects\n",
        "    '''\n",
        "    train_size = math.floor(train_size * adata.X.shape[0])\n",
        "\n",
        "    observations = set(adata.obs.index.tolist())\n",
        "    random.seed(a=seed)\n",
        "    train_obs = random.sample(observations, train_size)\n",
        "    test_obs = list(observations.difference(train_obs))\n",
        "    train_obs = list(train_obs)\n",
        "\n",
        "    test_set = AnnData.copy(adata)\n",
        "    test_set = test_set[test_obs, :]\n",
        "    adata = adata[train_obs, :]\n",
        "\n",
        "    return (adata, test_set)"
      ],
      "execution_count": 26,
      "outputs": []
    },
    {
      "cell_type": "code",
      "metadata": {
        "id": "cP2nU8sPAtIe"
      },
      "source": [
        "class KidneyDataset(torch.utils.data.Dataset):\n",
        "    '''\n",
        "    Gets KidneyDataset to be used in NN for kidney cell classification\n",
        "    '''\n",
        "    def __init__(self, adata):\n",
        "        '''\n",
        "        pyTorch Dataset Constructor\n",
        "        Arguments:\n",
        "            adata: adata object\n",
        "        '''\n",
        "        self.adata = AnnData.copy(adata)\n",
        "        \n",
        "    def __len__(self):\n",
        "        '''\n",
        "        Gets length of dataset\n",
        "        :return: integer representing length\n",
        "        '''\n",
        "        return self.adata.X.shape[0]\n",
        "    \n",
        "    def __getitem__(self, idx):\n",
        "        '''\n",
        "        Gets item from dataset\n",
        "        \n",
        "        :param index: integer representing index\n",
        "        :return: a tuple where return[0] is the data and\n",
        "        return[1] is the label\n",
        "        '''\n",
        "        if torch.is_tensor(idx):\n",
        "            idx = idx.tolist()\n",
        "\n",
        "        return (\n",
        "            self.adata.X[idx,:].toarray(), \n",
        "            int(self.adata.obs.iloc[idx].name[1]) - 1)"
      ],
      "execution_count": 54,
      "outputs": []
    },
    {
      "cell_type": "code",
      "metadata": {
        "id": "Hjn9Py4bDYNn"
      },
      "source": [
        "class KidneyNN(nn.Module):\n",
        "    def __init__(self, init_input):\n",
        "        super(KidneyNN, self).__init__()\n",
        "        self.flatten = nn.Flatten()\n",
        "        self.linear_relu_stack = nn.Sequential(\n",
        "            nn.Linear(init_input, 1000),\n",
        "            nn.ReLU(),\n",
        "            nn.Linear(1000, 1000),\n",
        "            nn.ReLU(),\n",
        "            nn.Linear(1000, 1000),\n",
        "            nn.ReLU(),\n",
        "            nn.Linear(1000, 3)\n",
        "        )\n",
        "    \n",
        "    def forward(self, x):\n",
        "        x = self.flatten(x)\n",
        "        return self.linear_relu_stack(x)"
      ],
      "execution_count": 74,
      "outputs": []
    },
    {
      "cell_type": "code",
      "metadata": {
        "id": "0NnuVnpbDshH"
      },
      "source": [
        "def train(dataloader, model, loss_fn, optimizer, device):\n",
        "    size = len(dataloader.dataset)\n",
        "    losses = []\n",
        "    for batch, (X, y) in enumerate(dataloader):\n",
        "      X = torch.FloatTensor(X).to(device=device)\n",
        "      y = torch.LongTensor(y).to(device=device)\n",
        "      pred = model(X)\n",
        "      loss = loss_fn(pred, y)\n",
        "      optimizer.zero_grad()\n",
        "      loss.backward()\n",
        "      optimizer.step()\n",
        "      if batch % 100 == 0:\n",
        "        loss, current = loss.item(), batch * len(X)\n",
        "        losses.append(loss)\n",
        "        print(f'loss: {loss:>7f}  [{current:>5d}/{size:>5d}]')\n",
        "        wandb.log({'loss': loss})\n",
        "    return losses"
      ],
      "execution_count": 121,
      "outputs": []
    },
    {
      "cell_type": "code",
      "metadata": {
        "id": "9x1TNQdQDuy5"
      },
      "source": [
        "def test(dataloader, model, loss_fn, device):\n",
        "    size = len(dataloader.dataset)\n",
        "    model.eval()\n",
        "    test_loss, correct = 0, 0\n",
        "    with torch.no_grad():\n",
        "        for X, y in dataloader:\n",
        "            X = torch.FloatTensor(X).to(device=device)\n",
        "            y = torch.LongTensor(y).to(device=device)\n",
        "            pred = model(X)\n",
        "            test_loss += loss_fn(pred, y).item()\n",
        "            correct += (pred.argmax(1) == y).type(torch.float).sum().item()\n",
        "    \n",
        "    test_loss /= size\n",
        "    correct /= size\n",
        "    print(f'Test Error: \\n Accuracy: {(100*correct):>0.1f}%, Avg loss: {test_loss:>8f} \\n')\n",
        "    return correct"
      ],
      "execution_count": 97,
      "outputs": []
    },
    {
      "cell_type": "code",
      "metadata": {
        "id": "BF7tM5N7Hj_j"
      },
      "source": [
        "def kfold_crossval_feature_selec(k, adata, var_features, batch_size, \n",
        "                                 num_epochs, loss_func, device):\n",
        "  '''\n",
        "  Runs kfold cross validation for a given model\n",
        "\n",
        "  fix to do highly variable genes inside this function\n",
        "  '''\n",
        "  accs = []\n",
        "  for w, var in enumerate(var_features):\n",
        "    print(f'Currently on kfold for poss_feature {w}')\n",
        "    total_acc = 0.0\n",
        "    for i in range(k):\n",
        "      print(f'Kfold step {i + 1} out of 10')\n",
        "      cur_adata = AnnData.copy(adata)\n",
        "      cur_adata = cur_adata[:, var]\n",
        "      train_ad, val_ad = train_test(cur_adata, 1/k, (i+24733) % 37)\n",
        "      \n",
        "      train_ds = KidneyDataset(train_ad)\n",
        "      val_ds = KidneyDataset(val_ad)\n",
        "      train_dl = torch.utils.data.DataLoader(dataset=train_ds,\n",
        "                                             batch_size=batch_size,\n",
        "                                             shuffle=True)\n",
        "      val_dl = torch.utils.data.DataLoader(dataset=val_ds,\n",
        "                                             batch_size=batch_size,\n",
        "                                             shuffle=True)\n",
        "      cur_model = KidneyNN(cur_adata.shape[1]).to(device=device)\n",
        "      optim = torch.optim.Adam(cur_model.parameters())\n",
        "      # train and then get err\n",
        "      for j in range(num_epochs):\n",
        "        _ = train(train_dl, cur_model, loss_func, optim, device)\n",
        "      total_acc += test(val_dl, cur_model, loss_func, device)\n",
        "    \n",
        "    print(f'avg acc for poss_feature {w}: {total_acc/k}')\n",
        "    accs.append(total_acc / k)\n",
        "\n",
        "  return accs"
      ],
      "execution_count": 93,
      "outputs": []
    },
    {
      "cell_type": "code",
      "metadata": {
        "id": "azMUzQNWLQHk"
      },
      "source": [
        "def get_different_features(train_adata, num_splits=10):\n",
        "  '''\n",
        "  We need to run feature selection on our input data\n",
        "  so randomly sample train dataset and run sc.highly_variable_features\n",
        "  to get multiple lists of candidate features to be dropped\n",
        "  '''\n",
        "  candidate_trials = []\n",
        "  for i in range(num_splits):\n",
        "    cur, _ = train_test(train_adata, 0.75, i)\n",
        "    sc.pp.highly_variable_genes(cur)\n",
        "    candidate_trials.append(cur.var.highly_variable)\n",
        "  return candidate_trials"
      ],
      "execution_count": 43,
      "outputs": []
    },
    {
      "cell_type": "code",
      "metadata": {
        "colab": {
          "base_uri": "https://localhost:8080/"
        },
        "id": "1ngjb1WJUgW3",
        "outputId": "df0761d4-33f4-47ee-bf54-f42108d12469"
      },
      "source": [
        "# set device\n",
        "device= 'cuda' if torch.cuda.is_available() else 'cpu'\n",
        "print(f'Using device {device}')"
      ],
      "execution_count": 40,
      "outputs": [
        {
          "output_type": "stream",
          "text": [
            "Using device cuda\n"
          ],
          "name": "stdout"
        }
      ]
    },
    {
      "cell_type": "code",
      "metadata": {
        "id": "V-IN7WerFKS2"
      },
      "source": [
        "# setup train/test adata objects\n",
        "adata = load_data('./kidney/')\n",
        "train_adata, test_adata = train_test(adata, 0.8, 2)"
      ],
      "execution_count": 27,
      "outputs": []
    },
    {
      "cell_type": "code",
      "metadata": {
        "colab": {
          "base_uri": "https://localhost:8080/"
        },
        "id": "x93Jo-Z-TnlJ",
        "outputId": "5d3658ae-291c-4aa3-ac39-58226bd40820"
      },
      "source": [
        "# lets do feature selection!\n",
        "poss_features = get_different_features(train_adata=train_adata, num_splits=10)"
      ],
      "execution_count": 70,
      "outputs": [
        {
          "output_type": "stream",
          "text": [
            "Trying to set attribute `.uns` of view, copying.\n",
            "Trying to set attribute `.uns` of view, copying.\n",
            "Trying to set attribute `.uns` of view, copying.\n",
            "Trying to set attribute `.uns` of view, copying.\n",
            "Trying to set attribute `.uns` of view, copying.\n",
            "Trying to set attribute `.uns` of view, copying.\n",
            "Trying to set attribute `.uns` of view, copying.\n",
            "Trying to set attribute `.uns` of view, copying.\n",
            "Trying to set attribute `.uns` of view, copying.\n",
            "Trying to set attribute `.uns` of view, copying.\n"
          ],
          "name": "stderr"
        }
      ]
    },
    {
      "cell_type": "code",
      "metadata": {
        "colab": {
          "base_uri": "https://localhost:8080/"
        },
        "id": "bdLqyCzuT99k",
        "outputId": "88956591-c33f-4054-b9de-9d51fbd2cf8f"
      },
      "source": [
        "kfold_errs = kfold_crossval_feature_selec(10, train_adata, poss_features,500, 5,\n",
        "                                          torch.nn.CrossEntropyLoss(), device)"
      ],
      "execution_count": 94,
      "outputs": [
        {
          "output_type": "stream",
          "text": [
            "Currently on kfold for poss_feature 0\n",
            "Kfold step 1 out of 10\n",
            "Kfold step 2 out of 10\n",
            "Kfold step 3 out of 10\n",
            "Kfold step 4 out of 10\n",
            "Kfold step 5 out of 10\n",
            "Kfold step 6 out of 10\n",
            "Kfold step 7 out of 10\n",
            "Kfold step 8 out of 10\n",
            "Kfold step 9 out of 10\n",
            "Kfold step 10 out of 10\n",
            "avg acc for poss_feature 0: 0.7864643951845764\n",
            "Currently on kfold for poss_feature 1\n",
            "Kfold step 1 out of 10\n",
            "Kfold step 2 out of 10\n",
            "Kfold step 3 out of 10\n",
            "Kfold step 4 out of 10\n",
            "Kfold step 5 out of 10\n",
            "Kfold step 6 out of 10\n",
            "Kfold step 7 out of 10\n",
            "Kfold step 8 out of 10\n",
            "Kfold step 9 out of 10\n",
            "Kfold step 10 out of 10\n",
            "avg acc for poss_feature 1: 0.7717960108391453\n",
            "Currently on kfold for poss_feature 2\n",
            "Kfold step 1 out of 10\n",
            "Kfold step 2 out of 10\n",
            "Kfold step 3 out of 10\n",
            "Kfold step 4 out of 10\n",
            "Kfold step 5 out of 10\n",
            "Kfold step 6 out of 10\n",
            "Kfold step 7 out of 10\n",
            "Kfold step 8 out of 10\n",
            "Kfold step 9 out of 10\n",
            "Kfold step 10 out of 10\n",
            "avg acc for poss_feature 2: 0.8049442494780331\n",
            "Currently on kfold for poss_feature 3\n",
            "Kfold step 1 out of 10\n",
            "Kfold step 2 out of 10\n",
            "Kfold step 3 out of 10\n",
            "Kfold step 4 out of 10\n",
            "Kfold step 5 out of 10\n",
            "Kfold step 6 out of 10\n",
            "Kfold step 7 out of 10\n",
            "Kfold step 8 out of 10\n",
            "Kfold step 9 out of 10\n",
            "Kfold step 10 out of 10\n",
            "avg acc for poss_feature 3: 0.8023632890586823\n",
            "Currently on kfold for poss_feature 4\n",
            "Kfold step 1 out of 10\n",
            "Kfold step 2 out of 10\n",
            "Kfold step 3 out of 10\n",
            "Kfold step 4 out of 10\n",
            "Kfold step 5 out of 10\n",
            "Kfold step 6 out of 10\n",
            "Kfold step 7 out of 10\n",
            "Kfold step 8 out of 10\n",
            "Kfold step 9 out of 10\n",
            "Kfold step 10 out of 10\n",
            "avg acc for poss_feature 4: 0.7886722046999244\n",
            "Currently on kfold for poss_feature 5\n",
            "Kfold step 1 out of 10\n",
            "Kfold step 2 out of 10\n",
            "Kfold step 3 out of 10\n",
            "Kfold step 4 out of 10\n",
            "Kfold step 5 out of 10\n",
            "Kfold step 6 out of 10\n",
            "Kfold step 7 out of 10\n",
            "Kfold step 8 out of 10\n",
            "Kfold step 9 out of 10\n",
            "Kfold step 10 out of 10\n",
            "avg acc for poss_feature 5: 0.815796721602772\n",
            "Currently on kfold for poss_feature 6\n",
            "Kfold step 1 out of 10\n",
            "Kfold step 2 out of 10\n",
            "Kfold step 3 out of 10\n",
            "Kfold step 4 out of 10\n",
            "Kfold step 5 out of 10\n",
            "Kfold step 6 out of 10\n",
            "Kfold step 7 out of 10\n",
            "Kfold step 8 out of 10\n",
            "Kfold step 9 out of 10\n",
            "Kfold step 10 out of 10\n",
            "avg acc for poss_feature 6: 0.7964861623206432\n",
            "Currently on kfold for poss_feature 7\n",
            "Kfold step 1 out of 10\n",
            "Kfold step 2 out of 10\n",
            "Kfold step 3 out of 10\n",
            "Kfold step 4 out of 10\n",
            "Kfold step 5 out of 10\n",
            "Kfold step 6 out of 10\n",
            "Kfold step 7 out of 10\n",
            "Kfold step 8 out of 10\n",
            "Kfold step 9 out of 10\n",
            "Kfold step 10 out of 10\n",
            "avg acc for poss_feature 7: 0.794340544622629\n",
            "Currently on kfold for poss_feature 8\n",
            "Kfold step 1 out of 10\n",
            "Kfold step 2 out of 10\n",
            "Kfold step 3 out of 10\n",
            "Kfold step 4 out of 10\n",
            "Kfold step 5 out of 10\n",
            "Kfold step 6 out of 10\n",
            "Kfold step 7 out of 10\n",
            "Kfold step 8 out of 10\n",
            "Kfold step 9 out of 10\n",
            "Kfold step 10 out of 10\n",
            "avg acc for poss_feature 8: 0.7860290524632403\n",
            "Currently on kfold for poss_feature 9\n",
            "Kfold step 1 out of 10\n",
            "Kfold step 2 out of 10\n",
            "Kfold step 3 out of 10\n",
            "Kfold step 4 out of 10\n",
            "Kfold step 5 out of 10\n",
            "Kfold step 6 out of 10\n",
            "Kfold step 7 out of 10\n",
            "Kfold step 8 out of 10\n",
            "Kfold step 9 out of 10\n",
            "Kfold step 10 out of 10\n",
            "avg acc for poss_feature 9: 0.8013815467993425\n"
          ],
          "name": "stdout"
        }
      ]
    },
    {
      "cell_type": "code",
      "metadata": {
        "colab": {
          "base_uri": "https://localhost:8080/",
          "height": 170
        },
        "id": "szt6285qEkzb",
        "outputId": "19112b6c-6090-4db8-9dfa-aea4eda3dd8b"
      },
      "source": [
        "wandb.init(project='kidney-ml', entity='roblburris')\n",
        "config = wandb.config\n",
        "config.learning_rate = 1e-3"
      ],
      "execution_count": 127,
      "outputs": [
        {
          "output_type": "display_data",
          "data": {
            "text/html": [
              "Finishing last run (ID:ymxunfip) before initializing another..."
            ],
            "text/plain": [
              "<IPython.core.display.HTML object>"
            ]
          },
          "metadata": {
            "tags": []
          }
        },
        {
          "output_type": "display_data",
          "data": {
            "text/html": [
              "...Successfully finished last run (ID:ymxunfip). Initializing new run:<br/><br/>"
            ],
            "text/plain": [
              "<IPython.core.display.HTML object>"
            ]
          },
          "metadata": {
            "tags": []
          }
        },
        {
          "output_type": "display_data",
          "data": {
            "text/html": [
              "\n",
              "                Tracking run with wandb version 0.10.31<br/>\n",
              "                Syncing run <strong style=\"color:#cdcd00\">laced-waterfall-39</strong> to <a href=\"https://wandb.ai\" target=\"_blank\">Weights & Biases</a> <a href=\"https://docs.wandb.com/integrations/jupyter.html\" target=\"_blank\">(Documentation)</a>.<br/>\n",
              "                Project page: <a href=\"https://wandb.ai/roblburris/kidney-ml\" target=\"_blank\">https://wandb.ai/roblburris/kidney-ml</a><br/>\n",
              "                Run page: <a href=\"https://wandb.ai/roblburris/kidney-ml/runs/266v2cb3\" target=\"_blank\">https://wandb.ai/roblburris/kidney-ml/runs/266v2cb3</a><br/>\n",
              "                Run data is saved locally in <code>/content/wandb/run-20210608_213814-266v2cb3</code><br/><br/>\n",
              "            "
            ],
            "text/plain": [
              "<IPython.core.display.HTML object>"
            ]
          },
          "metadata": {
            "tags": []
          }
        }
      ]
    },
    {
      "cell_type": "code",
      "metadata": {
        "id": "u-9F3b_LfWaX"
      },
      "source": [
        "# we have the best possible features, retrain model on entire train dataset and\n",
        "# get test err\n",
        "best_highly_var = poss_features[np.argmax(kfold_errs)]\n",
        "NUM_EPOCHS = 30\n",
        "BATCH_SIZE = 1000\n",
        "train_adata_fs = AnnData.copy(train_adata)[:, best_highly_var]\n",
        "test_adata_fs = AnnData.copy(test_adata)[:, best_highly_var]\n",
        "train_dl = torch.utils.data.DataLoader(KidneyDataset(train_adata_fs),\n",
        "                                       batch_size=BATCH_SIZE,\n",
        "                                       shuffle=True)\n",
        "test_dl = torch.utils.data.DataLoader(KidneyDataset(test_adata_fs),\n",
        "                                       batch_size=BATCH_SIZE,\n",
        "                                       shuffle=True)"
      ],
      "execution_count": 128,
      "outputs": []
    },
    {
      "cell_type": "code",
      "metadata": {
        "id": "EBLn4JlefesB"
      },
      "source": [
        "fin_model = KidneyNN(train_adata_fs.shape[1]).to(device=device)\n",
        "optim = torch.optim.Adam(fin_model.parameters())"
      ],
      "execution_count": 129,
      "outputs": []
    },
    {
      "cell_type": "code",
      "metadata": {
        "colab": {
          "base_uri": "https://localhost:8080/"
        },
        "id": "5pqxc5EjhCbh",
        "outputId": "e8d8a5fd-7d51-4dd6-ef2f-48aef3e516ae"
      },
      "source": [
        "avg_loss = []\n",
        "for i in range(NUM_EPOCHS):\n",
        "  print(f'Currently on Epoch {i + 1} out of {NUM_EPOCHS}\\n------------------------')\n",
        "  temp = train(train_dl, fin_model, torch.nn.CrossEntropyLoss(), optim, device)\n",
        "  avg_loss.append(np.average(temp))"
      ],
      "execution_count": 130,
      "outputs": [
        {
          "output_type": "stream",
          "text": [
            "Currently on Epoch 1 out of 30\n",
            "------------------------\n",
            "loss: 1.097360  [    0/25012]\n",
            "Currently on Epoch 2 out of 30\n",
            "------------------------\n",
            "loss: 0.469807  [    0/25012]\n",
            "Currently on Epoch 3 out of 30\n",
            "------------------------\n",
            "loss: 0.153393  [    0/25012]\n",
            "Currently on Epoch 4 out of 30\n",
            "------------------------\n",
            "loss: 0.166089  [    0/25012]\n",
            "Currently on Epoch 5 out of 30\n",
            "------------------------\n",
            "loss: 0.133364  [    0/25012]\n",
            "Currently on Epoch 6 out of 30\n",
            "------------------------\n",
            "loss: 0.068448  [    0/25012]\n",
            "Currently on Epoch 7 out of 30\n",
            "------------------------\n",
            "loss: 0.042332  [    0/25012]\n",
            "Currently on Epoch 8 out of 30\n",
            "------------------------\n",
            "loss: 0.007364  [    0/25012]\n",
            "Currently on Epoch 9 out of 30\n",
            "------------------------\n",
            "loss: 0.007103  [    0/25012]\n",
            "Currently on Epoch 10 out of 30\n",
            "------------------------\n",
            "loss: 0.001092  [    0/25012]\n",
            "Currently on Epoch 11 out of 30\n",
            "------------------------\n",
            "loss: 0.003096  [    0/25012]\n",
            "Currently on Epoch 12 out of 30\n",
            "------------------------\n",
            "loss: 0.000366  [    0/25012]\n",
            "Currently on Epoch 13 out of 30\n",
            "------------------------\n",
            "loss: 0.000174  [    0/25012]\n",
            "Currently on Epoch 14 out of 30\n",
            "------------------------\n",
            "loss: 0.000110  [    0/25012]\n",
            "Currently on Epoch 15 out of 30\n",
            "------------------------\n",
            "loss: 0.000771  [    0/25012]\n",
            "Currently on Epoch 16 out of 30\n",
            "------------------------\n",
            "loss: 0.000051  [    0/25012]\n",
            "Currently on Epoch 17 out of 30\n",
            "------------------------\n",
            "loss: 0.000042  [    0/25012]\n",
            "Currently on Epoch 18 out of 30\n",
            "------------------------\n",
            "loss: 0.000027  [    0/25012]\n",
            "Currently on Epoch 19 out of 30\n",
            "------------------------\n",
            "loss: 0.000024  [    0/25012]\n",
            "Currently on Epoch 20 out of 30\n",
            "------------------------\n",
            "loss: 0.000017  [    0/25012]\n",
            "Currently on Epoch 21 out of 30\n",
            "------------------------\n",
            "loss: 0.000020  [    0/25012]\n",
            "Currently on Epoch 22 out of 30\n",
            "------------------------\n",
            "loss: 0.000019  [    0/25012]\n",
            "Currently on Epoch 23 out of 30\n",
            "------------------------\n",
            "loss: 0.000013  [    0/25012]\n",
            "Currently on Epoch 24 out of 30\n",
            "------------------------\n",
            "loss: 0.000013  [    0/25012]\n",
            "Currently on Epoch 25 out of 30\n",
            "------------------------\n",
            "loss: 0.000012  [    0/25012]\n",
            "Currently on Epoch 26 out of 30\n",
            "------------------------\n",
            "loss: 0.000011  [    0/25012]\n",
            "Currently on Epoch 27 out of 30\n",
            "------------------------\n",
            "loss: 0.000009  [    0/25012]\n",
            "Currently on Epoch 28 out of 30\n",
            "------------------------\n",
            "loss: 0.000008  [    0/25012]\n",
            "Currently on Epoch 29 out of 30\n",
            "------------------------\n",
            "loss: 0.000007  [    0/25012]\n",
            "Currently on Epoch 30 out of 30\n",
            "------------------------\n",
            "loss: 0.000007  [    0/25012]\n"
          ],
          "name": "stdout"
        }
      ]
    },
    {
      "cell_type": "code",
      "metadata": {
        "colab": {
          "base_uri": "https://localhost:8080/",
          "height": 295
        },
        "id": "k3CC26M2kAZd",
        "outputId": "53eb0b0f-a860-4606-b3f4-6842cf7baad6"
      },
      "source": [
        "plt.plot([i for i in range(NUM_EPOCHS)], avg_loss)\n",
        "plt.title('Average Training Loss over Epochs')\n",
        "plt.xlabel('Epoch')\n",
        "plt.ylabel('Loss')\n",
        "plt.show()"
      ],
      "execution_count": 134,
      "outputs": [
        {
          "output_type": "display_data",
          "data": {
            "image/png": "[encoded data removed]",
            "text/plain": [
              "<Figure size 432x288 with 1 Axes>"
            ]
          },
          "metadata": {
            "tags": [],
            "needs_background": "light"
          }
        }
      ]
    },
    {
      "cell_type": "code",
      "metadata": {
        "colab": {
          "base_uri": "https://localhost:8080/"
        },
        "id": "LFeDaCV7glEa",
        "outputId": "b89a5378-33c6-45b5-e551-d62a98123360"
      },
      "source": [
        "_ = test(test_dl, fin_model, torch.nn.CrossEntropyLoss(), device)"
      ],
      "execution_count": 136,
      "outputs": [
        {
          "output_type": "stream",
          "text": [
            "Test Error: \n",
            " Accuracy: 94.1%, Avg loss: 0.000486 \n",
            "\n"
          ],
          "name": "stdout"
        }
      ]
    },
    {
      "cell_type": "code",
      "metadata": {
        "colab": {
          "base_uri": "https://localhost:8080/",
          "height": 17
        },
        "id": "N7KjBIsroLAm",
        "outputId": "e3310cc9-4565-4ab7-a195-ee8326bf7990"
      },
      "source": [
        "from google.colab import files\n",
        "import pickle\n",
        "best_highly_var.to_pickle('./best_features.out')\n",
        "files.download('./best_features.out')\n"
      ],
      "execution_count": 150,
      "outputs": [
        {
          "output_type": "display_data",
          "data": {
            "application/javascript": [
              "\n",
              "    async function download(id, filename, size) {\n",
              "      if (!google.colab.kernel.accessAllowed) {\n",
              "        return;\n",
              "      }\n",
              "      const div = document.createElement('div');\n",
              "      const label = document.createElement('label');\n",
              "      label.textContent = `Downloading \"${filename}\": `;\n",
              "      div.appendChild(label);\n",
              "      const progress = document.createElement('progress');\n",
              "      progress.max = size;\n",
              "      div.appendChild(progress);\n",
              "      document.body.appendChild(div);\n",
              "\n",
              "      const buffers = [];\n",
              "      let downloaded = 0;\n",
              "\n",
              "      const channel = await google.colab.kernel.comms.open(id);\n",
              "      // Send a message to notify the kernel that we're ready.\n",
              "      channel.send({})\n",
              "\n",
              "      for await (const message of channel.messages) {\n",
              "        // Send a message to notify the kernel that we're ready.\n",
              "        channel.send({})\n",
              "        if (message.buffers) {\n",
              "          for (const buffer of message.buffers) {\n",
              "            buffers.push(buffer);\n",
              "            downloaded += buffer.byteLength;\n",
              "            progress.value = downloaded;\n",
              "          }\n",
              "        }\n",
              "      }\n",
              "      const blob = new Blob(buffers, {type: 'application/binary'});\n",
              "      const a = document.createElement('a');\n",
              "      a.href = window.URL.createObjectURL(blob);\n",
              "      a.download = filename;\n",
              "      div.appendChild(a);\n",
              "      a.click();\n",
              "      div.remove();\n",
              "    }\n",
              "  "
            ],
            "text/plain": [
              "<IPython.core.display.Javascript object>"
            ]
          },
          "metadata": {
            "tags": []
          }
        },
        {
          "output_type": "display_data",
          "data": {
            "application/javascript": [
              "download(\"download_0dad6e8a-cb71-45b8-84fb-536f3b49c0c4\", \"best_features.out\", 287226)"
            ],
            "text/plain": [
              "<IPython.core.display.Javascript object>"
            ]
          },
          "metadata": {
            "tags": []
          }
        }
      ]
    },
    {
      "cell_type": "code",
      "metadata": {
        "colab": {
          "base_uri": "https://localhost:8080/"
        },
        "id": "hA28mqy0rFe0",
        "outputId": "7fb29a6b-dcb0-4a2a-85b5-858f8b2fc256"
      },
      "source": [
        "print(best_highly_var)"
      ],
      "execution_count": 145,
      "outputs": [
        {
          "output_type": "stream",
          "text": [
            "Xkr4              False\n",
            "Gm37381           False\n",
            "Rp1               False\n",
            "Sox17              True\n",
            "Gm37323           False\n",
            "                  ...  \n",
            "AC168977.2        False\n",
            "AC168977.1        False\n",
            "PISD              False\n",
            "DHRSX             False\n",
            "CAAA01147332.1    False\n",
            "Name: highly_variable, Length: 19125, dtype: bool\n"
          ],
          "name": "stdout"
        }
      ]
    }
  ]
}